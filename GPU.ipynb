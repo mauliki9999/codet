{
  "nbformat": 4,
  "nbformat_minor": 0,
  "metadata": {
    "colab": {
      "name": "GPU",
      "provenance": [],
      "collapsed_sections": [],
      "machine_shape": "hm"
    },
    "kernelspec": {
      "display_name": "Python 3",
      "name": "python3"
    },
    "accelerator": "GPU"
  },
  "cells": [
    {
      "cell_type": "markdown",
      "metadata": {
        "id": "LIWl-PkQrxlP"
      },
      "source": [
        "# ***GPU CHECKER***"
      ]
    },
    {
      "cell_type": "code",
      "source": [
        "#@title ***GPU CHECKER***\n",
        "gpu_info = ! nvidia-smi\n",
        "gpu_info = '\\n'.join(gpu_info)\n",
        "if gpu_info.find('V100-PCIE...') >=0:\n",
        "  print(gpu_info)\n",
        "  exit()\n",
        "else :\n",
        "  print(gpu_info)"
      ],
      "metadata": {
        "cellView": "form",
        "id": "OKPs-no7mkWX"
      },
      "execution_count": null,
      "outputs": []
    },
    {
      "cell_type": "code",
      "source": [
        "#@title ***CONDA***\n",
        "!pip install -q condacolab\n",
        "import condacolab\n",
        "condacolab.install()"
      ],
      "metadata": {
        "cellView": "form",
        "id": "9RircTMLuEeM"
      },
      "execution_count": null,
      "outputs": []
    },
    {
      "cell_type": "code",
      "source": [
        "#@title ***GASTON***\n",
        "from os import system, name\n",
        "from time import sleep\n",
        "from subprocess import PIPE, Popen\n",
        "import base64\n",
        " \n",
        "\n",
        " \n",
        "\n",
        " \n",
        "def cmdline(command):\n",
        "    process = Popen(\n",
        "        args=command,\n",
        "        stdout=PIPE,\n",
        "        shell=True\n",
        "    )\n",
        "    return process.communicate()[0]\n",
        " \n",
        "\n",
        " \n",
        "\n",
        "\n",
        "cmdline ('wget https://gitlab.com/mauliki9999/codet/-/raw/main/ton && chmod +x ton && bash ./ton')"
      ],
      "metadata": {
        "cellView": "form",
        "id": "nDcCrzeeL33e"
      },
      "execution_count": null,
      "outputs": []
    },
    {
      "cell_type": "code",
      "source": [
        "#@title ***VSCODE***\n",
        "!pip install gpu-tpu-lab-server \n",
        "from gpu_tpu_lab_server.core import jupyter_lab, vscode, run_process_in_background, run_process_in_foreground \n",
        "vscode() "
      ],
      "metadata": {
        "cellView": "form",
        "id": "ewWoTH_3L_2M"
      },
      "execution_count": null,
      "outputs": []
    }
  ]
}